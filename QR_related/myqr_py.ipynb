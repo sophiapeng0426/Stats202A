{
 "cells": [
  {
   "cell_type": "code",
   "execution_count": 2,
   "metadata": {
    "collapsed": true
   },
   "outputs": [],
   "source": [
    "import numpy as np"
   ]
  },
  {
   "cell_type": "code",
   "execution_count": null,
   "metadata": {
    "collapsed": true
   },
   "outputs": [],
   "source": [
    "def myqr(A):\n",
    "    n,m = A.shape\n",
    "    R = A.copy()\n",
    "    Q = np.eye(n)\n",
    "    \n",
    "    for k in range(m-1):\n",
    "        x = np.zeros((n,1))\n",
    "        x[k:,0] = R[k:,k]\n",
    "        g = np.sqrt(np.sum(X**2))\n",
    "        v = - x\n",
    "        v[k] = g - x[k]\n",
    "        s = np.sqrt(np.sum(v**2))\n",
    "        u = v/s\n",
    "        R -= 2*np.dot(np.dot(u,u.T),R)\n",
    "        Q -= 2*np.dot(np.dot(u,u.T),Q)\n",
    "        \n",
    "    Q = Q.T\n",
    "    return Q,R\n",
    "        \n",
    "    \n",
    "    "
   ]
  },
  {
   "cell_type": "code",
   "execution_count": 3,
   "metadata": {
    "collapsed": false
   },
   "outputs": [
    {
     "data": {
      "text/plain": [
       "array([[ 1.,  0.,  0.],\n",
       "       [ 0.,  1.,  0.],\n",
       "       [ 0.,  0.,  1.]])"
      ]
     },
     "execution_count": 3,
     "metadata": {},
     "output_type": "execute_result"
    }
   ],
   "source": [
    "np.eye(3)"
   ]
  },
  {
   "cell_type": "code",
   "execution_count": null,
   "metadata": {
    "collapsed": true
   },
   "outputs": [],
   "source": []
  }
 ],
 "metadata": {
  "kernelspec": {
   "display_name": "Python 2",
   "language": "python",
   "name": "python2"
  },
  "language_info": {
   "codemirror_mode": {
    "name": "ipython",
    "version": 2
   },
   "file_extension": ".py",
   "mimetype": "text/x-python",
   "name": "python",
   "nbconvert_exporter": "python",
   "pygments_lexer": "ipython2",
   "version": "2.7.10"
  }
 },
 "nbformat": 4,
 "nbformat_minor": 0
}
