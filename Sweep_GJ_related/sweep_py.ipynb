{
 "cells": [
  {
   "cell_type": "code",
   "execution_count": 1,
   "metadata": {
    "collapsed": true
   },
   "outputs": [],
   "source": [
    "import numpy as np"
   ]
  },
  {
   "cell_type": "code",
   "execution_count": 95,
   "metadata": {
    "collapsed": true
   },
   "outputs": [],
   "source": [
    "def mySweep(B,m):\n",
    "    ## include square matrix check\n",
    "    A = np.copy(B)\n",
    "    n, c = A.shape\n",
    "    if n==c:\n",
    "        for k in range(m):\n",
    "            if abs(A[k,k])>1e-8:\n",
    "                for i in range(n):\n",
    "                    for j in range(n):\n",
    "                        if i != k and j != k:\n",
    "                            A[i,j] = A[i,j]-A[i,k]*A[k,j]/A[k,k]\n",
    "        \n",
    "                for i in range(n):\n",
    "                    if (i!= k):\n",
    "                        A[i,k] = A[i,k]/A[k,k]\n",
    "        \n",
    "                for j in range(n):\n",
    "                    if j!= k:\n",
    "                        A[k,j] = A[k,j]/A[k,k]\n",
    "        \n",
    "                A[k,k] = -1/A[k,k]\n",
    "            \n",
    "            else:\n",
    "                print \"Warning: Not invertible\"\n",
    "                A = []\n",
    "                break\n",
    "                \n",
    "        return A\n",
    "    else:\n",
    "        return \"Warning: Not square matrix\"\n",
    "                "
   ]
  },
  {
   "cell_type": "code",
   "execution_count": 85,
   "metadata": {
    "collapsed": true
   },
   "outputs": [],
   "source": [
    "def myGaussGordan_vec(A,m):\n",
    "    ## check square and invertible\n",
    "    n,c = A.shape\n",
    "    if n==c:\n",
    "        B = np.hstack((A.copy(),np.identity(n)))\n",
    "    \n",
    "        for k in range(m):\n",
    "            a = B[k,k]\n",
    "            if abs(a) >= 1e-8:\n",
    "                B[k,] = B[k,]/a\n",
    "                for i in range(n):\n",
    "                    if i!= k:\n",
    "                        b = B[i,k]\n",
    "                        B[i,:] = B[i,:]-B[k,:]*b\n",
    "            elif abs(a) < 1e-8:\n",
    "                print \"Warning: Non-invertable\"\n",
    "                B = []\n",
    "                break\n",
    "        return B \n",
    "    \n",
    "    else:\n",
    "        return \"Not sqaure matrix!\""
   ]
  },
  {
   "cell_type": "code",
   "execution_count": 27,
   "metadata": {
    "collapsed": true
   },
   "outputs": [],
   "source": [
    "def myGaussGordan(A,m):\n",
    "    n = A.shape[0]\n",
    "    B = np.hstack((A.copy(),np.identity(n)))\n",
    "    \n",
    "    for k in range(m):\n",
    "        a = B[k,k]\n",
    "        for j in range(2*n):\n",
    "            B[k,j] = B[k,j]/a\n",
    "        \n",
    "        for i in range(n):\n",
    "            if i!=k:\n",
    "                b = B[i,k]\n",
    "                for j in range(2*n):\n",
    "                    B[i,j] = B[i,j] - B[k,j]*b\n",
    "    return B"
   ]
  },
  {
   "cell_type": "code",
   "execution_count": 81,
   "metadata": {
    "collapsed": true
   },
   "outputs": [],
   "source": [
    "A = np.array([[1,7,17],[2,11,21],[3,13,23]],dtype = float)"
   ]
  },
  {
   "cell_type": "code",
   "execution_count": 82,
   "metadata": {
    "collapsed": true
   },
   "outputs": [],
   "source": [
    "B = np.array([[2,7,17],[2,11,21]],dtype = float)"
   ]
  },
  {
   "cell_type": "code",
   "execution_count": 83,
   "metadata": {
    "collapsed": true
   },
   "outputs": [],
   "source": [
    "C = np.array([[2,6],[1,3]],dtype = float)"
   ]
  },
  {
   "cell_type": "code",
   "execution_count": 99,
   "metadata": {
    "collapsed": false
   },
   "outputs": [
    {
     "name": "stdout",
     "output_type": "stream",
     "text": [
      "[[-1.    3.   -2.  ]\n",
      " [ 0.85 -1.4   0.65]\n",
      " [-0.35  0.4  -0.15]]\n",
      "Warning: Not square matrix\n",
      "Warning: Not invertible\n",
      "[]\n",
      "[[ 1.    0.    0.    1.   -3.    2.  ]\n",
      " [-0.    1.    0.   -0.85  1.4  -0.65]\n",
      " [ 0.    0.    1.    0.35 -0.4   0.15]]\n",
      "Not sqaure matrix!\n",
      "Warning: Non-invertable\n",
      "[]\n"
     ]
    }
   ],
   "source": [
    "print mySweep(A,3)\n",
    "print mySweep(B,2)\n",
    "print mySweep(C,2)\n",
    "\n",
    "print myGaussGordan_vec(A,3)\n",
    "print myGaussGordan_vec(B,2)\n",
    "print myGaussGordan_vec(C,2)\n"
   ]
  }
 ],
 "metadata": {
  "kernelspec": {
   "display_name": "Python 2",
   "language": "python",
   "name": "python2"
  },
  "language_info": {
   "codemirror_mode": {
    "name": "ipython",
    "version": 2
   },
   "file_extension": ".py",
   "mimetype": "text/x-python",
   "name": "python",
   "nbconvert_exporter": "python",
   "pygments_lexer": "ipython2",
   "version": "2.7.9"
  }
 },
 "nbformat": 4,
 "nbformat_minor": 0
}
